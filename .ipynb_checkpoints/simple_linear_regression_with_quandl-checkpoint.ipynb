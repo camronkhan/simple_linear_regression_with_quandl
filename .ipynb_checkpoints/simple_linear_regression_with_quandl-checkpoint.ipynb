{
 "cells": [
  {
   "cell_type": "markdown",
   "metadata": {},
   "source": [
    "### Imports"
   ]
  },
  {
   "cell_type": "code",
   "execution_count": 30,
   "metadata": {
    "collapsed": false
   },
   "outputs": [],
   "source": [
    "import quandl, math\n",
    "import pandas as pd\n",
    "import numpy as np\n",
    "import pandas as pd\n",
    "from sklearn import preprocessing\n",
    "from sklearn.model_selection import cross_val_score\n",
    "from sklearn.linear_model import LinearRegression\n",
    "from sklearn.metrics import mean_squared_error, r2_score"
   ]
  },
  {
   "cell_type": "code",
   "execution_count": 5,
   "metadata": {
    "collapsed": false
   },
   "outputs": [],
   "source": [
    "df = quandl.get(\"WIKI/GOOGL\")"
   ]
  },
  {
   "cell_type": "markdown",
   "metadata": {},
   "source": [
    "### EDA"
   ]
  },
  {
   "cell_type": "code",
   "execution_count": 6,
   "metadata": {
    "collapsed": false
   },
   "outputs": [
    {
     "data": {
      "text/plain": [
       "(3250, 12)"
      ]
     },
     "execution_count": 6,
     "metadata": {},
     "output_type": "execute_result"
    }
   ],
   "source": [
    "df.shape"
   ]
  },
  {
   "cell_type": "code",
   "execution_count": 7,
   "metadata": {
    "collapsed": false
   },
   "outputs": [
    {
     "name": "stdout",
     "output_type": "stream",
     "text": [
      "<class 'pandas.core.frame.DataFrame'>\n",
      "DatetimeIndex: 3250 entries, 2004-08-19 to 2017-07-17\n",
      "Data columns (total 12 columns):\n",
      "Open           3250 non-null float64\n",
      "High           3250 non-null float64\n",
      "Low            3250 non-null float64\n",
      "Close          3250 non-null float64\n",
      "Volume         3250 non-null float64\n",
      "Ex-Dividend    3250 non-null float64\n",
      "Split Ratio    3250 non-null float64\n",
      "Adj. Open      3250 non-null float64\n",
      "Adj. High      3250 non-null float64\n",
      "Adj. Low       3250 non-null float64\n",
      "Adj. Close     3250 non-null float64\n",
      "Adj. Volume    3250 non-null float64\n",
      "dtypes: float64(12)\n",
      "memory usage: 330.1 KB\n"
     ]
    }
   ],
   "source": [
    "df.info()"
   ]
  },
  {
   "cell_type": "code",
   "execution_count": 8,
   "metadata": {
    "collapsed": false
   },
   "outputs": [
    {
     "data": {
      "text/plain": [
       "Open           0\n",
       "High           0\n",
       "Low            0\n",
       "Close          0\n",
       "Volume         0\n",
       "Ex-Dividend    0\n",
       "Split Ratio    0\n",
       "Adj. Open      0\n",
       "Adj. High      0\n",
       "Adj. Low       0\n",
       "Adj. Close     0\n",
       "Adj. Volume    0\n",
       "dtype: int64"
      ]
     },
     "execution_count": 8,
     "metadata": {},
     "output_type": "execute_result"
    }
   ],
   "source": [
    "df.apply(lambda x: x.isnull().sum())"
   ]
  },
  {
   "cell_type": "code",
   "execution_count": 9,
   "metadata": {
    "collapsed": false
   },
   "outputs": [
    {
     "data": {
      "text/html": [
       "<div>\n",
       "<table border=\"1\" class=\"dataframe\">\n",
       "  <thead>\n",
       "    <tr style=\"text-align: right;\">\n",
       "      <th></th>\n",
       "      <th>Open</th>\n",
       "      <th>High</th>\n",
       "      <th>Low</th>\n",
       "      <th>Close</th>\n",
       "      <th>Volume</th>\n",
       "      <th>Ex-Dividend</th>\n",
       "      <th>Split Ratio</th>\n",
       "      <th>Adj. Open</th>\n",
       "      <th>Adj. High</th>\n",
       "      <th>Adj. Low</th>\n",
       "      <th>Adj. Close</th>\n",
       "      <th>Adj. Volume</th>\n",
       "    </tr>\n",
       "  </thead>\n",
       "  <tbody>\n",
       "    <tr>\n",
       "      <th>count</th>\n",
       "      <td>3250.000000</td>\n",
       "      <td>3250.000000</td>\n",
       "      <td>3250.000000</td>\n",
       "      <td>3250.000000</td>\n",
       "      <td>3.250000e+03</td>\n",
       "      <td>3250.000000</td>\n",
       "      <td>3250.0</td>\n",
       "      <td>3250.000000</td>\n",
       "      <td>3250.000000</td>\n",
       "      <td>3250.000000</td>\n",
       "      <td>3250.000000</td>\n",
       "      <td>3.250000e+03</td>\n",
       "    </tr>\n",
       "    <tr>\n",
       "      <th>mean</th>\n",
       "      <td>573.188928</td>\n",
       "      <td>578.492997</td>\n",
       "      <td>567.326075</td>\n",
       "      <td>572.946982</td>\n",
       "      <td>8.144943e+06</td>\n",
       "      <td>0.174761</td>\n",
       "      <td>1.0</td>\n",
       "      <td>375.775681</td>\n",
       "      <td>379.101486</td>\n",
       "      <td>372.059146</td>\n",
       "      <td>375.624519</td>\n",
       "      <td>8.144943e+06</td>\n",
       "    </tr>\n",
       "    <tr>\n",
       "      <th>std</th>\n",
       "      <td>207.855000</td>\n",
       "      <td>208.433983</td>\n",
       "      <td>206.942434</td>\n",
       "      <td>207.766270</td>\n",
       "      <td>8.339278e+06</td>\n",
       "      <td>9.962882</td>\n",
       "      <td>0.0</td>\n",
       "      <td>218.485202</td>\n",
       "      <td>219.632387</td>\n",
       "      <td>217.033322</td>\n",
       "      <td>218.435871</td>\n",
       "      <td>8.339278e+06</td>\n",
       "    </tr>\n",
       "    <tr>\n",
       "      <th>min</th>\n",
       "      <td>99.090000</td>\n",
       "      <td>101.740000</td>\n",
       "      <td>95.960000</td>\n",
       "      <td>100.010000</td>\n",
       "      <td>5.211410e+05</td>\n",
       "      <td>0.000000</td>\n",
       "      <td>1.0</td>\n",
       "      <td>49.698414</td>\n",
       "      <td>51.027517</td>\n",
       "      <td>48.128568</td>\n",
       "      <td>50.159839</td>\n",
       "      <td>5.211410e+05</td>\n",
       "    </tr>\n",
       "    <tr>\n",
       "      <th>25%</th>\n",
       "      <td>452.575000</td>\n",
       "      <td>457.555000</td>\n",
       "      <td>447.445000</td>\n",
       "      <td>451.457500</td>\n",
       "      <td>2.866494e+06</td>\n",
       "      <td>0.000000</td>\n",
       "      <td>1.0</td>\n",
       "      <td>226.988191</td>\n",
       "      <td>229.485901</td>\n",
       "      <td>224.415248</td>\n",
       "      <td>226.427711</td>\n",
       "      <td>2.866494e+06</td>\n",
       "    </tr>\n",
       "    <tr>\n",
       "      <th>50%</th>\n",
       "      <td>555.115000</td>\n",
       "      <td>560.064950</td>\n",
       "      <td>548.865000</td>\n",
       "      <td>554.515000</td>\n",
       "      <td>5.369500e+06</td>\n",
       "      <td>0.000000</td>\n",
       "      <td>1.0</td>\n",
       "      <td>294.020112</td>\n",
       "      <td>295.843240</td>\n",
       "      <td>290.496736</td>\n",
       "      <td>293.089740</td>\n",
       "      <td>5.369500e+06</td>\n",
       "    </tr>\n",
       "    <tr>\n",
       "      <th>75%</th>\n",
       "      <td>694.715000</td>\n",
       "      <td>701.622500</td>\n",
       "      <td>687.145000</td>\n",
       "      <td>695.167500</td>\n",
       "      <td>1.078838e+07</td>\n",
       "      <td>0.000000</td>\n",
       "      <td>1.0</td>\n",
       "      <td>542.074570</td>\n",
       "      <td>545.807500</td>\n",
       "      <td>537.120000</td>\n",
       "      <td>541.775000</td>\n",
       "      <td>1.078838e+07</td>\n",
       "    </tr>\n",
       "    <tr>\n",
       "      <th>max</th>\n",
       "      <td>1226.800000</td>\n",
       "      <td>1228.880000</td>\n",
       "      <td>1218.600000</td>\n",
       "      <td>1220.170000</td>\n",
       "      <td>8.215110e+07</td>\n",
       "      <td>567.971668</td>\n",
       "      <td>1.0</td>\n",
       "      <td>1005.490000</td>\n",
       "      <td>1008.610000</td>\n",
       "      <td>996.620000</td>\n",
       "      <td>1004.280000</td>\n",
       "      <td>8.215110e+07</td>\n",
       "    </tr>\n",
       "  </tbody>\n",
       "</table>\n",
       "</div>"
      ],
      "text/plain": [
       "              Open         High          Low        Close        Volume  \\\n",
       "count  3250.000000  3250.000000  3250.000000  3250.000000  3.250000e+03   \n",
       "mean    573.188928   578.492997   567.326075   572.946982  8.144943e+06   \n",
       "std     207.855000   208.433983   206.942434   207.766270  8.339278e+06   \n",
       "min      99.090000   101.740000    95.960000   100.010000  5.211410e+05   \n",
       "25%     452.575000   457.555000   447.445000   451.457500  2.866494e+06   \n",
       "50%     555.115000   560.064950   548.865000   554.515000  5.369500e+06   \n",
       "75%     694.715000   701.622500   687.145000   695.167500  1.078838e+07   \n",
       "max    1226.800000  1228.880000  1218.600000  1220.170000  8.215110e+07   \n",
       "\n",
       "       Ex-Dividend  Split Ratio    Adj. Open    Adj. High     Adj. Low  \\\n",
       "count  3250.000000       3250.0  3250.000000  3250.000000  3250.000000   \n",
       "mean      0.174761          1.0   375.775681   379.101486   372.059146   \n",
       "std       9.962882          0.0   218.485202   219.632387   217.033322   \n",
       "min       0.000000          1.0    49.698414    51.027517    48.128568   \n",
       "25%       0.000000          1.0   226.988191   229.485901   224.415248   \n",
       "50%       0.000000          1.0   294.020112   295.843240   290.496736   \n",
       "75%       0.000000          1.0   542.074570   545.807500   537.120000   \n",
       "max     567.971668          1.0  1005.490000  1008.610000   996.620000   \n",
       "\n",
       "        Adj. Close   Adj. Volume  \n",
       "count  3250.000000  3.250000e+03  \n",
       "mean    375.624519  8.144943e+06  \n",
       "std     218.435871  8.339278e+06  \n",
       "min      50.159839  5.211410e+05  \n",
       "25%     226.427711  2.866494e+06  \n",
       "50%     293.089740  5.369500e+06  \n",
       "75%     541.775000  1.078838e+07  \n",
       "max    1004.280000  8.215110e+07  "
      ]
     },
     "execution_count": 9,
     "metadata": {},
     "output_type": "execute_result"
    }
   ],
   "source": [
    "df.describe()"
   ]
  },
  {
   "cell_type": "code",
   "execution_count": 10,
   "metadata": {
    "collapsed": false
   },
   "outputs": [
    {
     "data": {
      "text/html": [
       "<div>\n",
       "<table border=\"1\" class=\"dataframe\">\n",
       "  <thead>\n",
       "    <tr style=\"text-align: right;\">\n",
       "      <th></th>\n",
       "      <th>Open</th>\n",
       "      <th>High</th>\n",
       "      <th>Low</th>\n",
       "      <th>Close</th>\n",
       "      <th>Volume</th>\n",
       "      <th>Ex-Dividend</th>\n",
       "      <th>Split Ratio</th>\n",
       "      <th>Adj. Open</th>\n",
       "      <th>Adj. High</th>\n",
       "      <th>Adj. Low</th>\n",
       "      <th>Adj. Close</th>\n",
       "      <th>Adj. Volume</th>\n",
       "    </tr>\n",
       "    <tr>\n",
       "      <th>Date</th>\n",
       "      <th></th>\n",
       "      <th></th>\n",
       "      <th></th>\n",
       "      <th></th>\n",
       "      <th></th>\n",
       "      <th></th>\n",
       "      <th></th>\n",
       "      <th></th>\n",
       "      <th></th>\n",
       "      <th></th>\n",
       "      <th></th>\n",
       "      <th></th>\n",
       "    </tr>\n",
       "  </thead>\n",
       "  <tbody>\n",
       "    <tr>\n",
       "      <th>2004-08-19</th>\n",
       "      <td>100.01</td>\n",
       "      <td>104.06</td>\n",
       "      <td>95.96</td>\n",
       "      <td>100.335</td>\n",
       "      <td>44659000.0</td>\n",
       "      <td>0.0</td>\n",
       "      <td>1.0</td>\n",
       "      <td>50.159839</td>\n",
       "      <td>52.191109</td>\n",
       "      <td>48.128568</td>\n",
       "      <td>50.322842</td>\n",
       "      <td>44659000.0</td>\n",
       "    </tr>\n",
       "    <tr>\n",
       "      <th>2004-08-20</th>\n",
       "      <td>101.01</td>\n",
       "      <td>109.08</td>\n",
       "      <td>100.50</td>\n",
       "      <td>108.310</td>\n",
       "      <td>22834300.0</td>\n",
       "      <td>0.0</td>\n",
       "      <td>1.0</td>\n",
       "      <td>50.661387</td>\n",
       "      <td>54.708881</td>\n",
       "      <td>50.405597</td>\n",
       "      <td>54.322689</td>\n",
       "      <td>22834300.0</td>\n",
       "    </tr>\n",
       "    <tr>\n",
       "      <th>2004-08-23</th>\n",
       "      <td>110.76</td>\n",
       "      <td>113.48</td>\n",
       "      <td>109.05</td>\n",
       "      <td>109.400</td>\n",
       "      <td>18256100.0</td>\n",
       "      <td>0.0</td>\n",
       "      <td>1.0</td>\n",
       "      <td>55.551482</td>\n",
       "      <td>56.915693</td>\n",
       "      <td>54.693835</td>\n",
       "      <td>54.869377</td>\n",
       "      <td>18256100.0</td>\n",
       "    </tr>\n",
       "    <tr>\n",
       "      <th>2004-08-24</th>\n",
       "      <td>111.24</td>\n",
       "      <td>111.60</td>\n",
       "      <td>103.57</td>\n",
       "      <td>104.870</td>\n",
       "      <td>15247300.0</td>\n",
       "      <td>0.0</td>\n",
       "      <td>1.0</td>\n",
       "      <td>55.792225</td>\n",
       "      <td>55.972783</td>\n",
       "      <td>51.945350</td>\n",
       "      <td>52.597363</td>\n",
       "      <td>15247300.0</td>\n",
       "    </tr>\n",
       "    <tr>\n",
       "      <th>2004-08-25</th>\n",
       "      <td>104.76</td>\n",
       "      <td>108.00</td>\n",
       "      <td>103.88</td>\n",
       "      <td>106.000</td>\n",
       "      <td>9188600.0</td>\n",
       "      <td>0.0</td>\n",
       "      <td>1.0</td>\n",
       "      <td>52.542193</td>\n",
       "      <td>54.167209</td>\n",
       "      <td>52.100830</td>\n",
       "      <td>53.164113</td>\n",
       "      <td>9188600.0</td>\n",
       "    </tr>\n",
       "  </tbody>\n",
       "</table>\n",
       "</div>"
      ],
      "text/plain": [
       "              Open    High     Low    Close      Volume  Ex-Dividend  \\\n",
       "Date                                                                   \n",
       "2004-08-19  100.01  104.06   95.96  100.335  44659000.0          0.0   \n",
       "2004-08-20  101.01  109.08  100.50  108.310  22834300.0          0.0   \n",
       "2004-08-23  110.76  113.48  109.05  109.400  18256100.0          0.0   \n",
       "2004-08-24  111.24  111.60  103.57  104.870  15247300.0          0.0   \n",
       "2004-08-25  104.76  108.00  103.88  106.000   9188600.0          0.0   \n",
       "\n",
       "            Split Ratio  Adj. Open  Adj. High   Adj. Low  Adj. Close  \\\n",
       "Date                                                                   \n",
       "2004-08-19          1.0  50.159839  52.191109  48.128568   50.322842   \n",
       "2004-08-20          1.0  50.661387  54.708881  50.405597   54.322689   \n",
       "2004-08-23          1.0  55.551482  56.915693  54.693835   54.869377   \n",
       "2004-08-24          1.0  55.792225  55.972783  51.945350   52.597363   \n",
       "2004-08-25          1.0  52.542193  54.167209  52.100830   53.164113   \n",
       "\n",
       "            Adj. Volume  \n",
       "Date                     \n",
       "2004-08-19   44659000.0  \n",
       "2004-08-20   22834300.0  \n",
       "2004-08-23   18256100.0  \n",
       "2004-08-24   15247300.0  \n",
       "2004-08-25    9188600.0  "
      ]
     },
     "execution_count": 10,
     "metadata": {},
     "output_type": "execute_result"
    }
   ],
   "source": [
    "df.head()"
   ]
  },
  {
   "cell_type": "code",
   "execution_count": 11,
   "metadata": {
    "collapsed": false
   },
   "outputs": [
    {
     "data": {
      "text/html": [
       "<div>\n",
       "<table border=\"1\" class=\"dataframe\">\n",
       "  <thead>\n",
       "    <tr style=\"text-align: right;\">\n",
       "      <th></th>\n",
       "      <th>Open</th>\n",
       "      <th>High</th>\n",
       "      <th>Low</th>\n",
       "      <th>Close</th>\n",
       "      <th>Volume</th>\n",
       "      <th>Ex-Dividend</th>\n",
       "      <th>Split Ratio</th>\n",
       "      <th>Adj. Open</th>\n",
       "      <th>Adj. High</th>\n",
       "      <th>Adj. Low</th>\n",
       "      <th>Adj. Close</th>\n",
       "      <th>Adj. Volume</th>\n",
       "    </tr>\n",
       "    <tr>\n",
       "      <th>Date</th>\n",
       "      <th></th>\n",
       "      <th></th>\n",
       "      <th></th>\n",
       "      <th></th>\n",
       "      <th></th>\n",
       "      <th></th>\n",
       "      <th></th>\n",
       "      <th></th>\n",
       "      <th></th>\n",
       "      <th></th>\n",
       "      <th></th>\n",
       "      <th></th>\n",
       "    </tr>\n",
       "  </thead>\n",
       "  <tbody>\n",
       "    <tr>\n",
       "      <th>2017-07-11</th>\n",
       "      <td>950.52</td>\n",
       "      <td>954.89</td>\n",
       "      <td>945.12</td>\n",
       "      <td>953.5300</td>\n",
       "      <td>1444540.0</td>\n",
       "      <td>0.0</td>\n",
       "      <td>1.0</td>\n",
       "      <td>950.52</td>\n",
       "      <td>954.89</td>\n",
       "      <td>945.12</td>\n",
       "      <td>953.5300</td>\n",
       "      <td>1444540.0</td>\n",
       "    </tr>\n",
       "    <tr>\n",
       "      <th>2017-07-12</th>\n",
       "      <td>960.86</td>\n",
       "      <td>969.63</td>\n",
       "      <td>957.04</td>\n",
       "      <td>967.6600</td>\n",
       "      <td>1589548.0</td>\n",
       "      <td>0.0</td>\n",
       "      <td>1.0</td>\n",
       "      <td>960.86</td>\n",
       "      <td>969.63</td>\n",
       "      <td>957.04</td>\n",
       "      <td>967.6600</td>\n",
       "      <td>1589548.0</td>\n",
       "    </tr>\n",
       "    <tr>\n",
       "      <th>2017-07-13</th>\n",
       "      <td>970.80</td>\n",
       "      <td>978.70</td>\n",
       "      <td>964.80</td>\n",
       "      <td>968.7175</td>\n",
       "      <td>1519987.0</td>\n",
       "      <td>0.0</td>\n",
       "      <td>1.0</td>\n",
       "      <td>970.80</td>\n",
       "      <td>978.70</td>\n",
       "      <td>964.80</td>\n",
       "      <td>968.7175</td>\n",
       "      <td>1519987.0</td>\n",
       "    </tr>\n",
       "    <tr>\n",
       "      <th>2017-07-14</th>\n",
       "      <td>974.00</td>\n",
       "      <td>977.54</td>\n",
       "      <td>970.15</td>\n",
       "      <td>976.9100</td>\n",
       "      <td>1048240.0</td>\n",
       "      <td>0.0</td>\n",
       "      <td>1.0</td>\n",
       "      <td>974.00</td>\n",
       "      <td>977.54</td>\n",
       "      <td>970.15</td>\n",
       "      <td>976.9100</td>\n",
       "      <td>1048240.0</td>\n",
       "    </tr>\n",
       "    <tr>\n",
       "      <th>2017-07-17</th>\n",
       "      <td>976.32</td>\n",
       "      <td>983.35</td>\n",
       "      <td>970.80</td>\n",
       "      <td>975.9600</td>\n",
       "      <td>1644618.0</td>\n",
       "      <td>0.0</td>\n",
       "      <td>1.0</td>\n",
       "      <td>976.32</td>\n",
       "      <td>983.35</td>\n",
       "      <td>970.80</td>\n",
       "      <td>975.9600</td>\n",
       "      <td>1644618.0</td>\n",
       "    </tr>\n",
       "  </tbody>\n",
       "</table>\n",
       "</div>"
      ],
      "text/plain": [
       "              Open    High     Low     Close     Volume  Ex-Dividend  \\\n",
       "Date                                                                   \n",
       "2017-07-11  950.52  954.89  945.12  953.5300  1444540.0          0.0   \n",
       "2017-07-12  960.86  969.63  957.04  967.6600  1589548.0          0.0   \n",
       "2017-07-13  970.80  978.70  964.80  968.7175  1519987.0          0.0   \n",
       "2017-07-14  974.00  977.54  970.15  976.9100  1048240.0          0.0   \n",
       "2017-07-17  976.32  983.35  970.80  975.9600  1644618.0          0.0   \n",
       "\n",
       "            Split Ratio  Adj. Open  Adj. High  Adj. Low  Adj. Close  \\\n",
       "Date                                                                  \n",
       "2017-07-11          1.0     950.52     954.89    945.12    953.5300   \n",
       "2017-07-12          1.0     960.86     969.63    957.04    967.6600   \n",
       "2017-07-13          1.0     970.80     978.70    964.80    968.7175   \n",
       "2017-07-14          1.0     974.00     977.54    970.15    976.9100   \n",
       "2017-07-17          1.0     976.32     983.35    970.80    975.9600   \n",
       "\n",
       "            Adj. Volume  \n",
       "Date                     \n",
       "2017-07-11    1444540.0  \n",
       "2017-07-12    1589548.0  \n",
       "2017-07-13    1519987.0  \n",
       "2017-07-14    1048240.0  \n",
       "2017-07-17    1644618.0  "
      ]
     },
     "execution_count": 11,
     "metadata": {},
     "output_type": "execute_result"
    }
   ],
   "source": [
    "df.tail()"
   ]
  },
  {
   "cell_type": "markdown",
   "metadata": {},
   "source": [
    "### Feature Engineering"
   ]
  },
  {
   "cell_type": "code",
   "execution_count": 12,
   "metadata": {
    "collapsed": false
   },
   "outputs": [],
   "source": [
    "# (Peak - Trough) / Trough * 100\n",
    "df['hi_lo_pct'] = (df['Adj. High'] - df['Adj. Low']) / df['Adj. Close'] * 100.0"
   ]
  },
  {
   "cell_type": "code",
   "execution_count": 13,
   "metadata": {
    "collapsed": false
   },
   "outputs": [],
   "source": [
    "# (New - Old) / Old * 100\n",
    "df['pct_change'] = (df['Adj. Close'] - df['Adj. Open']) / df['Adj. Close'] * 100.0"
   ]
  },
  {
   "cell_type": "code",
   "execution_count": 14,
   "metadata": {
    "collapsed": true
   },
   "outputs": [],
   "source": [
    "# Drop unused columns\n",
    "df.drop(['Open', 'High', 'Low', 'Close', 'Volume', 'Ex-Dividend', 'Split Ratio', 'Adj. Open', 'Adj. High', 'Adj. Low'], axis=1, inplace=True)"
   ]
  },
  {
   "cell_type": "code",
   "execution_count": 19,
   "metadata": {
    "collapsed": false
   },
   "outputs": [],
   "source": [
    "# Forecast out {{ 1% * len(df) }} days into the future\n",
    "forecast_col = 'Adj. Close'\n",
    "forecast_pct = 0.01\n",
    "forecast_out = int(math.ceil(forecast_pct * len(df)))\n",
    "df['label'] = df[forecast_col].shift(-forecast_out)"
   ]
  },
  {
   "cell_type": "code",
   "execution_count": 20,
   "metadata": {
    "collapsed": true
   },
   "outputs": [],
   "source": [
    "# Drop last 1% of data since it will lack a label\n",
    "df.dropna(inplace=True)"
   ]
  },
  {
   "cell_type": "code",
   "execution_count": 21,
   "metadata": {
    "collapsed": false
   },
   "outputs": [
    {
     "data": {
      "text/html": [
       "<div>\n",
       "<table border=\"1\" class=\"dataframe\">\n",
       "  <thead>\n",
       "    <tr style=\"text-align: right;\">\n",
       "      <th></th>\n",
       "      <th>Adj. Close</th>\n",
       "      <th>Adj. Volume</th>\n",
       "      <th>hi_lo_pct</th>\n",
       "      <th>pct_change</th>\n",
       "      <th>label</th>\n",
       "    </tr>\n",
       "    <tr>\n",
       "      <th>Date</th>\n",
       "      <th></th>\n",
       "      <th></th>\n",
       "      <th></th>\n",
       "      <th></th>\n",
       "      <th></th>\n",
       "    </tr>\n",
       "  </thead>\n",
       "  <tbody>\n",
       "    <tr>\n",
       "      <th>2004-08-19</th>\n",
       "      <td>50.322842</td>\n",
       "      <td>44659000.0</td>\n",
       "      <td>8.072956</td>\n",
       "      <td>0.323915</td>\n",
       "      <td>68.752232</td>\n",
       "    </tr>\n",
       "    <tr>\n",
       "      <th>2004-08-20</th>\n",
       "      <td>54.322689</td>\n",
       "      <td>22834300.0</td>\n",
       "      <td>7.921706</td>\n",
       "      <td>6.739913</td>\n",
       "      <td>69.639972</td>\n",
       "    </tr>\n",
       "    <tr>\n",
       "      <th>2004-08-23</th>\n",
       "      <td>54.869377</td>\n",
       "      <td>18256100.0</td>\n",
       "      <td>4.049360</td>\n",
       "      <td>-1.243144</td>\n",
       "      <td>69.078238</td>\n",
       "    </tr>\n",
       "    <tr>\n",
       "      <th>2004-08-24</th>\n",
       "      <td>52.597363</td>\n",
       "      <td>15247300.0</td>\n",
       "      <td>7.657099</td>\n",
       "      <td>-6.074187</td>\n",
       "      <td>67.839414</td>\n",
       "    </tr>\n",
       "    <tr>\n",
       "      <th>2004-08-25</th>\n",
       "      <td>53.164113</td>\n",
       "      <td>9188600.0</td>\n",
       "      <td>3.886792</td>\n",
       "      <td>1.169811</td>\n",
       "      <td>68.912727</td>\n",
       "    </tr>\n",
       "  </tbody>\n",
       "</table>\n",
       "</div>"
      ],
      "text/plain": [
       "            Adj. Close  Adj. Volume  hi_lo_pct  pct_change      label\n",
       "Date                                                                 \n",
       "2004-08-19   50.322842   44659000.0   8.072956    0.323915  68.752232\n",
       "2004-08-20   54.322689   22834300.0   7.921706    6.739913  69.639972\n",
       "2004-08-23   54.869377   18256100.0   4.049360   -1.243144  69.078238\n",
       "2004-08-24   52.597363   15247300.0   7.657099   -6.074187  67.839414\n",
       "2004-08-25   53.164113    9188600.0   3.886792    1.169811  68.912727"
      ]
     },
     "execution_count": 21,
     "metadata": {},
     "output_type": "execute_result"
    }
   ],
   "source": [
    "df.head()"
   ]
  },
  {
   "cell_type": "code",
   "execution_count": 22,
   "metadata": {
    "collapsed": false
   },
   "outputs": [
    {
     "data": {
      "text/html": [
       "<div>\n",
       "<table border=\"1\" class=\"dataframe\">\n",
       "  <thead>\n",
       "    <tr style=\"text-align: right;\">\n",
       "      <th></th>\n",
       "      <th>Adj. Close</th>\n",
       "      <th>Adj. Volume</th>\n",
       "      <th>hi_lo_pct</th>\n",
       "      <th>pct_change</th>\n",
       "      <th>label</th>\n",
       "    </tr>\n",
       "    <tr>\n",
       "      <th>Date</th>\n",
       "      <th></th>\n",
       "      <th></th>\n",
       "      <th></th>\n",
       "      <th></th>\n",
       "      <th></th>\n",
       "    </tr>\n",
       "  </thead>\n",
       "  <tbody>\n",
       "    <tr>\n",
       "      <th>2017-05-23</th>\n",
       "      <td>970.55</td>\n",
       "      <td>1529617.0</td>\n",
       "      <td>1.031374</td>\n",
       "      <td>0.060790</td>\n",
       "      <td>953.5300</td>\n",
       "    </tr>\n",
       "    <tr>\n",
       "      <th>2017-05-24</th>\n",
       "      <td>977.61</td>\n",
       "      <td>1128880.0</td>\n",
       "      <td>0.663363</td>\n",
       "      <td>0.240382</td>\n",
       "      <td>967.6600</td>\n",
       "    </tr>\n",
       "    <tr>\n",
       "      <th>2017-05-25</th>\n",
       "      <td>991.86</td>\n",
       "      <td>1951402.0</td>\n",
       "      <td>1.810739</td>\n",
       "      <td>1.296554</td>\n",
       "      <td>968.7175</td>\n",
       "    </tr>\n",
       "    <tr>\n",
       "      <th>2017-05-26</th>\n",
       "      <td>993.27</td>\n",
       "      <td>1622807.0</td>\n",
       "      <td>0.909118</td>\n",
       "      <td>0.127861</td>\n",
       "      <td>976.9100</td>\n",
       "    </tr>\n",
       "    <tr>\n",
       "      <th>2017-05-30</th>\n",
       "      <td>996.17</td>\n",
       "      <td>1511472.0</td>\n",
       "      <td>0.628397</td>\n",
       "      <td>0.368411</td>\n",
       "      <td>975.9600</td>\n",
       "    </tr>\n",
       "  </tbody>\n",
       "</table>\n",
       "</div>"
      ],
      "text/plain": [
       "            Adj. Close  Adj. Volume  hi_lo_pct  pct_change     label\n",
       "Date                                                                \n",
       "2017-05-23      970.55    1529617.0   1.031374    0.060790  953.5300\n",
       "2017-05-24      977.61    1128880.0   0.663363    0.240382  967.6600\n",
       "2017-05-25      991.86    1951402.0   1.810739    1.296554  968.7175\n",
       "2017-05-26      993.27    1622807.0   0.909118    0.127861  976.9100\n",
       "2017-05-30      996.17    1511472.0   0.628397    0.368411  975.9600"
      ]
     },
     "execution_count": 22,
     "metadata": {},
     "output_type": "execute_result"
    }
   ],
   "source": [
    "df.tail()"
   ]
  },
  {
   "cell_type": "markdown",
   "metadata": {},
   "source": [
    "### Training"
   ]
  },
  {
   "cell_type": "code",
   "execution_count": 23,
   "metadata": {
    "collapsed": false
   },
   "outputs": [],
   "source": [
    "# Get and scale features\n",
    "X = np.array(df.drop('label', axis=1))\n",
    "X = preprocessing.scale(X)"
   ]
  },
  {
   "cell_type": "code",
   "execution_count": 24,
   "metadata": {
    "collapsed": true
   },
   "outputs": [],
   "source": [
    "# Get labels\n",
    "y = np.array(df['label'])"
   ]
  },
  {
   "cell_type": "code",
   "execution_count": 25,
   "metadata": {
    "collapsed": true
   },
   "outputs": [],
   "source": [
    "# Get train-test split\n",
    "X_train, X_test, y_train, y_test = cross_validation.train_test_split(X, y, test_size=0.2)"
   ]
  },
  {
   "cell_type": "code",
   "execution_count": 26,
   "metadata": {
    "collapsed": false
   },
   "outputs": [
    {
     "data": {
      "text/plain": [
       "LinearRegression(copy_X=True, fit_intercept=True, n_jobs=1, normalize=False)"
      ]
     },
     "execution_count": 26,
     "metadata": {},
     "output_type": "execute_result"
    }
   ],
   "source": [
    "# Get SVM and fit train data\n",
    "lin_reg = LinearRegression()\n",
    "lin_reg.fit(X_train, y_train)"
   ]
  },
  {
   "cell_type": "code",
   "execution_count": 28,
   "metadata": {
    "collapsed": false
   },
   "outputs": [
    {
     "name": "stdout",
     "output_type": "stream",
     "text": [
      "Coefficient of Determination: 0.971763408017\n"
     ]
    }
   ],
   "source": [
    "# Coefficient of determination (R^2)\n",
    "r2 = lin_reg.score(X_test, y_test)\n",
    "print('Coefficient of Determination: ' + str(r2))\n",
    "\n",
    "# Root mean square error (RMSE)\n",
    "rmse = np.sqrt(mean_squared_error())\n",
    "print('Root Mean Squared Error: ' + str(rmse))"
   ]
  },
  {
   "cell_type": "code",
   "execution_count": null,
   "metadata": {
    "collapsed": true
   },
   "outputs": [],
   "source": []
  }
 ],
 "metadata": {
  "kernelspec": {
   "display_name": "Python 3",
   "language": "python",
   "name": "python3"
  },
  "language_info": {
   "codemirror_mode": {
    "name": "ipython",
    "version": 3
   },
   "file_extension": ".py",
   "mimetype": "text/x-python",
   "name": "python",
   "nbconvert_exporter": "python",
   "pygments_lexer": "ipython3",
   "version": "3.6.0"
  }
 },
 "nbformat": 4,
 "nbformat_minor": 2
}
